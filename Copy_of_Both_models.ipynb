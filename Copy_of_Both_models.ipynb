{
  "nbformat": 4,
  "nbformat_minor": 0,
  "metadata": {
    "colab": {
      "provenance": [],
      "machine_shape": "hm",
      "include_colab_link": true
    },
    "kernelspec": {
      "name": "python3",
      "display_name": "Python 3"
    }
  },
  "cells": [
    {
      "cell_type": "markdown",
      "metadata": {
        "id": "view-in-github",
        "colab_type": "text"
      },
      "source": [
        "<a href=\"https://colab.research.google.com/github/AhmedAboushanab/COVID-19/blob/master/Copy_of_Both_models.ipynb\" target=\"_parent\"><img src=\"https://colab.research.google.com/assets/colab-badge.svg\" alt=\"Open In Colab\"/></a>"
      ]
    },
    {
      "cell_type": "markdown",
      "metadata": {
        "id": "0MRC0e0KhQ0S"
      },
      "source": [
        "# Random Forest Classification"
      ]
    },
    {
      "cell_type": "markdown",
      "metadata": {
        "id": "LWd1UlMnhT2s"
      },
      "source": [
        "## Importing the libraries"
      ]
    },
    {
      "cell_type": "code",
      "metadata": {
        "id": "YvGPUQaHhXfL"
      },
      "source": [
        "import numpy as np\n",
        "import matplotlib.pyplot as plt\n",
        "import pandas as pd\n",
        "from sklearn.metrics import auc\n",
        "from sklearn.metrics import RocCurveDisplay\n",
        "from sklearn.linear_model import LogisticRegression\n",
        "from sklearn.ensemble import RandomForestClassifier\n",
        "from sklearn import model_selection"
      ],
      "execution_count": 111,
      "outputs": []
    },
    {
      "cell_type": "markdown",
      "metadata": {
        "id": "K1VMqkGvhc3-"
      },
      "source": [
        "## Importing the dataset"
      ]
    },
    {
      "cell_type": "code",
      "metadata": {
        "id": "M52QDmyzhh9s"
      },
      "source": [
        "dataset = pd.read_csv('Meta-Analysis-POC - Data-4.csv')\n",
        "X = dataset.iloc[:, :-1].values\n",
        "y = dataset.iloc[:, -1].values"
      ],
      "execution_count": 112,
      "outputs": []
    },
    {
      "cell_type": "markdown",
      "metadata": {
        "id": "YvxIPVyMhmKp"
      },
      "source": [
        "## Splitting the dataset into the Training set and Test set"
      ]
    },
    {
      "cell_type": "code",
      "metadata": {
        "id": "AVzJWAXIhxoC"
      },
      "source": [
        "from sklearn.model_selection import train_test_split\n",
        "X_train, X_test, y_train, y_test = train_test_split(X, y, test_size = 0.25, random_state = 0)"
      ],
      "execution_count": 113,
      "outputs": []
    },
    {
      "cell_type": "code",
      "metadata": {
        "id": "P3nS3-6r1i2B",
        "colab": {
          "base_uri": "https://localhost:8080/"
        },
        "outputId": "50726d9d-3981-42cf-ecea-c4b878861168"
      },
      "source": [
        "print(X_train)"
      ],
      "execution_count": 114,
      "outputs": [
        {
          "output_type": "stream",
          "name": "stdout",
          "text": [
            "[[  6.26666667 100.        ]\n",
            " [  5.3         43.07      ]\n",
            " [  5.46666667  29.17      ]\n",
            " [  5.9        100.        ]\n",
            " [  4.96666667  32.5       ]\n",
            " [  5.33       100.        ]\n",
            " [  4.8         42.47      ]\n",
            " [  4.4         92.67      ]\n",
            " [  5.6        100.        ]\n",
            " [  5.43       100.        ]\n",
            " [  8.          22.37      ]\n",
            " [  5.5        100.        ]\n",
            " [  5.53       100.        ]\n",
            " [  5.43       100.        ]\n",
            " [  5.43       100.        ]\n",
            " [  5.73        94.57      ]\n",
            " [  5.5        100.        ]\n",
            " [  5.43       100.        ]\n",
            " [  5.5         22.73      ]\n",
            " [  5.83        98.3       ]\n",
            " [  8.17        99.47      ]\n",
            " [  6.66666667 100.        ]\n",
            " [  5.47       100.        ]\n",
            " [  3.76666667 100.        ]\n",
            " [  7.43        94.        ]\n",
            " [  5.53       100.        ]\n",
            " [  5.2         37.73      ]\n",
            " [  6.          95.13      ]\n",
            " [  5.53       100.        ]\n",
            " [  5.87       100.        ]\n",
            " [  4.73333333  94.33      ]\n",
            " [  6.07        99.3       ]\n",
            " [  5.5        100.        ]\n",
            " [  5.26666667  99.47      ]\n",
            " [  5.73       100.        ]\n",
            " [  7.83        69.07      ]\n",
            " [  5.7        100.        ]\n",
            " [  6.8        100.        ]\n",
            " [  5.43        99.23      ]\n",
            " [  5.57       100.        ]\n",
            " [  5.47       100.        ]\n",
            " [  5.5         98.73      ]\n",
            " [  5.73       100.        ]\n",
            " [ 10.93        96.        ]\n",
            " [  5.43       100.        ]\n",
            " [  5.4        100.        ]\n",
            " [  4.7         93.7       ]\n",
            " [  5.5         39.7       ]\n",
            " [  5.53       100.        ]\n",
            " [  5.43       100.        ]\n",
            " [  5.9         98.9       ]\n",
            " [  6.33        97.1       ]\n",
            " [  4.93333333  43.4       ]\n",
            " [  5.3         32.43      ]\n",
            " [  5.56666667  24.4       ]\n",
            " [  5.5        100.        ]\n",
            " [  5.4        100.        ]]\n"
          ]
        }
      ]
    },
    {
      "cell_type": "code",
      "metadata": {
        "id": "8dpDLojm1mVG",
        "colab": {
          "base_uri": "https://localhost:8080/"
        },
        "outputId": "4e4d7e38-f163-475a-fab4-a7fede863ebb"
      },
      "source": [
        "print(y_train)"
      ],
      "execution_count": 115,
      "outputs": [
        {
          "output_type": "stream",
          "name": "stdout",
          "text": [
            "['Bad' 'Hit' 'Good' 'Bad' 'Good' 'Hit' 'Good' 'Hit' 'Hit' 'Hit' 'Bad'\n",
            " 'Good' 'Hit' 'Hit' 'Hit' 'Good' 'Hit' 'Hit' 'Good' 'Good' 'Bad' 'Bad'\n",
            " 'Hit' 'Bad' 'Bad' 'Hit' 'Hit' 'Bad' 'Hit' 'Good' 'Hit' 'Bad' 'Hit' 'Hit'\n",
            " 'Hit' 'Bad' 'Hit' 'Bad' 'Good' 'Hit' 'Hit' 'Good' 'Hit' 'Bad' 'Hit' 'Hit'\n",
            " 'Hit' 'Hit' 'Hit' 'Hit' 'Good' 'Bad' 'Hit' 'Good' 'Bad' 'Hit' 'Hit']\n"
          ]
        }
      ]
    },
    {
      "cell_type": "code",
      "metadata": {
        "id": "qbb7i0DH1qui",
        "colab": {
          "base_uri": "https://localhost:8080/"
        },
        "outputId": "e9952fc0-0c6e-47d4-cd1a-ea0152ad35d1"
      },
      "source": [
        "print(X_test)"
      ],
      "execution_count": 116,
      "outputs": [
        {
          "output_type": "stream",
          "name": "stdout",
          "text": [
            "[[  5.33       100.        ]\n",
            " [  4.93333333  29.67      ]\n",
            " [  5.56666667  17.67      ]\n",
            " [  5.9         15.07      ]\n",
            " [  5.13        94.4       ]\n",
            " [  5.53        98.27      ]\n",
            " [  5.2         43.53      ]\n",
            " [  6.3        100.        ]\n",
            " [  5.4        100.        ]\n",
            " [  5.4         31.        ]\n",
            " [  5.67       100.        ]\n",
            " [  4.9         94.8       ]\n",
            " [  5.6         97.7       ]\n",
            " [  5.33       100.        ]\n",
            " [  5.5        100.        ]\n",
            " [  5.5        100.        ]\n",
            " [  6.13        90.93      ]\n",
            " [  5.67       100.        ]\n",
            " [  7.7         99.63      ]\n",
            " [  5.4        100.        ]]\n"
          ]
        }
      ]
    },
    {
      "cell_type": "code",
      "metadata": {
        "id": "kj1hnFAR1s5w",
        "colab": {
          "base_uri": "https://localhost:8080/"
        },
        "outputId": "c58e1072-fdd1-4f45-f56d-78afeebcf1a4"
      },
      "source": [
        "print(y_test)"
      ],
      "execution_count": 117,
      "outputs": [
        {
          "output_type": "stream",
          "name": "stdout",
          "text": [
            "['Hit' 'Bad' 'Bad' 'Bad' 'Good' 'Good' 'Hit' 'Bad' 'Hit' 'Bad' 'Hit' 'Hit'\n",
            " 'Good' 'Hit' 'Hit' 'Hit' 'Bad' 'Hit' 'Bad' 'Hit']\n"
          ]
        }
      ]
    },
    {
      "cell_type": "markdown",
      "metadata": {
        "id": "v3eJ5sAoYkPM"
      },
      "source": [
        "**Feature Scaling**"
      ]
    },
    {
      "cell_type": "code",
      "metadata": {
        "id": "GASG8Z2MYlq_"
      },
      "source": [
        "#from sklearn.preprocessing import StandardScaler\n",
        "#sc = StandardScaler()\n",
        "#X_train = sc.fit_transform(X_train)\n",
        "#X_test = sc.transform(X_test)"
      ],
      "execution_count": 118,
      "outputs": []
    },
    {
      "cell_type": "code",
      "metadata": {
        "id": "9YdmpwYWYpA4"
      },
      "source": [
        "#print(X_train)"
      ],
      "execution_count": 119,
      "outputs": []
    },
    {
      "cell_type": "code",
      "metadata": {
        "id": "BfMAEXcqYr27"
      },
      "source": [
        "#print(X_test)"
      ],
      "execution_count": 120,
      "outputs": []
    },
    {
      "cell_type": "markdown",
      "metadata": {
        "id": "XYrBIN5sVmgQ"
      },
      "source": [
        "**For loop for both Models**"
      ]
    },
    {
      "cell_type": "code",
      "metadata": {
        "colab": {
          "base_uri": "https://localhost:8080/"
        },
        "id": "iLwvsRoEVqQM",
        "outputId": "7d909ecf-7c8e-41eb-b651-c4d4e43231e4"
      },
      "source": [
        "# prepare models\n",
        "models = []\n",
        "models.append(('LR', LogisticRegression(random_state = 0, max_iter=1000)))\n",
        "models.append(('RF', RandomForestClassifier(n_estimators = 100, criterion = 'entropy', random_state = 0)))\n",
        "\n",
        "# evaluate each model in turn\n",
        "results = []\n",
        "names = []\n",
        "scoring = 'accuracy'\n",
        "for name, model in models:\n",
        "\tkfold = model_selection.KFold(n_splits=10)\n",
        "\tcv_results = model_selection.cross_val_score(estimator = model, X = X_train, y = y_train, cv = 10)\n",
        "\tresults.append(cv_results)\n",
        "\tnames.append(name)\n",
        "\tmsg = \"%s: %f (%f)\" % (name, cv_results.mean(), cv_results.std())\n",
        "\tprint(msg)"
      ],
      "execution_count": 121,
      "outputs": [
        {
          "output_type": "stream",
          "name": "stdout",
          "text": [
            "LR: 0.686667 (0.121289)\n",
            "RF: 0.826667 (0.106249)\n"
          ]
        }
      ]
    },
    {
      "cell_type": "markdown",
      "metadata": {
        "id": "ZWR-z9TjWwLl"
      },
      "source": [
        "**boxplot algorithm comparison**"
      ]
    },
    {
      "cell_type": "code",
      "metadata": {
        "colab": {
          "base_uri": "https://localhost:8080/",
          "height": 478
        },
        "id": "h84z3opbW1-F",
        "outputId": "0a9ac85d-cf96-4969-c4b5-7a4af0e771ef"
      },
      "source": [
        "fig = plt.figure()\n",
        "fig.suptitle('Algorithm Comparison')\n",
        "ax = fig.add_subplot(111)\n",
        "plt.boxplot(results)\n",
        "ax.set_xticklabels(names)\n",
        "plt.show()"
      ],
      "execution_count": 122,
      "outputs": [
        {
          "output_type": "display_data",
          "data": {
            "text/plain": [
              "<Figure size 640x480 with 1 Axes>"
            ],
            "image/png": "[encoded data removed]"
          },
          "metadata": {}
        }
      ]
    }
  ]
}